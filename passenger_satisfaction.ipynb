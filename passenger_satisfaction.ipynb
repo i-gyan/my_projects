{
 "cells": [
  {
   "cell_type": "markdown",
   "id": "152828f6-4f3e-4ff8-ad93-94a69239e93b",
   "metadata": {},
   "source": [
    "# Data Card"
   ]
  },
  {
   "cell_type": "markdown",
   "id": "74c42554-8f9f-463c-a580-571b56531d4f",
   "metadata": {},
   "source": [
    "### About Dataset\n",
    "\n",
    "## Context\n",
    "#### US Airline passenger satisfaction survey -https://www.kaggle.com/datasets/teejmahal20/airline-passenger-satisfaction/data\n",
    "\n",
    "## Content\n",
    "#### Satisfaction: Airline satisfaction level(Satisfaction, neutral or dissatisfaction)\n",
    "#### Age: The actual age of the passengers\n",
    "#### Gender: Gender of the passengers (Female, Male)\n",
    "#### Type of Travel: Purpose of the flight of the passengers (Personal Travel, Business Travel)\"\n",
    "#### Class:Travel class in the plane of the passengers (Business, Eco, Eco Plus)\"\n",
    "#### Customer Type:The customer type (Loyal customer, disloyal customer)\n",
    "#### Flight distance:The flight distance of this journey\n",
    "#### Inflight wifi service:Satisfaction level of the inflight wifi service (0:Not Applicable;1-5)\"\n",
    "#### Ease of Online booking:Satisfaction level of online booking\n",
    "#### Inflight service:Satisfaction level of inflight service\n",
    "#### Online boarding:Satisfaction level of online boarding\n",
    "#### Inflight entertainment:Satisfaction level of inflight entertainment\n",
    "#### Food and drink:Satisfaction level of Food and drink\n",
    "#### Seat comfort:Satisfaction level of Seat comfort\n",
    "#### On-board service:Satisfaction level of On-board service\n",
    "#### Leg room service:Satisfaction level of Leg room service\n",
    "#### Departure/Arrival time convenient:Satisfaction level of Departure/Arrival time convenient\n",
    "#### Baggage handling:Satisfaction level of baggage handling\n",
    "#### Gate location:Satisfaction level of Gate location\n",
    "#### Cleanliness:Satisfaction level of Cleanliness\n",
    "#### Check-in service:Satisfaction level of Check-in service\n",
    "#### Departure Delay in Minutes:Minutes delayed when departure\n",
    "#### Arrival Delay in Minutes:Minutes delayed when Arrival\n",
    "#### Flight cancelled:Whether the Flight cancelled or not (Yes, No)\n",
    "#### Flight time in minutes:Minutes of Flight takes\n"
   ]
  },
  {
   "cell_type": "markdown",
   "id": "23f845e5-001f-4236-9440-cc3e24044672",
   "metadata": {},
   "source": [
    "# Import Libraries"
   ]
  },
  {
   "cell_type": "code",
   "execution_count": 1,
   "id": "7415d51a-2497-4322-bf8c-4419ffcc5ba3",
   "metadata": {},
   "outputs": [
    {
     "data": {
      "text/plain": [
       "<module 'myfunctions' from 'C:\\\\Users\\\\igyan\\\\Desktop\\\\DS\\\\PROJECTS\\\\my_projects\\\\myfunctions.py'>"
      ]
     },
     "execution_count": 1,
     "metadata": {},
     "output_type": "execute_result"
    }
   ],
   "source": [
    "import pandas as pd\n",
    "import numpy as np\n",
    "import myfunctions as mf # my module\n",
    "import importlib\n",
    "importlib.reload(mf) # reload my functions if any update is made "
   ]
  },
  {
   "cell_type": "markdown",
   "id": "c6287489-e2db-4d44-92e1-9aa97c8ec84d",
   "metadata": {},
   "source": [
    "# Load Dataset"
   ]
  },
  {
   "cell_type": "code",
   "execution_count": 2,
   "id": "3d7f8175-d6d9-4902-830b-fe145cb7765c",
   "metadata": {},
   "outputs": [
    {
     "data": {
      "text/html": [
       "<div>\n",
       "<style scoped>\n",
       "    .dataframe tbody tr th:only-of-type {\n",
       "        vertical-align: middle;\n",
       "    }\n",
       "\n",
       "    .dataframe tbody tr th {\n",
       "        vertical-align: top;\n",
       "    }\n",
       "\n",
       "    .dataframe thead th {\n",
       "        text-align: right;\n",
       "    }\n",
       "</style>\n",
       "<table border=\"1\" class=\"dataframe\">\n",
       "  <thead>\n",
       "    <tr style=\"text-align: right;\">\n",
       "      <th></th>\n",
       "      <th>id</th>\n",
       "      <th>satisfaction_v2</th>\n",
       "      <th>Gender</th>\n",
       "      <th>Customer Type</th>\n",
       "      <th>Age</th>\n",
       "      <th>Type of Travel</th>\n",
       "      <th>Class</th>\n",
       "      <th>Flight Distance</th>\n",
       "      <th>Seat comfort</th>\n",
       "      <th>Departure/Arrival time convenient</th>\n",
       "      <th>...</th>\n",
       "      <th>Online support</th>\n",
       "      <th>Ease of Online booking</th>\n",
       "      <th>On-board service</th>\n",
       "      <th>Leg room service</th>\n",
       "      <th>Baggage handling</th>\n",
       "      <th>Checkin service</th>\n",
       "      <th>Cleanliness</th>\n",
       "      <th>Online boarding</th>\n",
       "      <th>Departure Delay in Minutes</th>\n",
       "      <th>Arrival Delay in Minutes</th>\n",
       "    </tr>\n",
       "  </thead>\n",
       "  <tbody>\n",
       "    <tr>\n",
       "      <th>0</th>\n",
       "      <td>11112</td>\n",
       "      <td>satisfied</td>\n",
       "      <td>Female</td>\n",
       "      <td>Loyal Customer</td>\n",
       "      <td>65</td>\n",
       "      <td>Personal Travel</td>\n",
       "      <td>Eco</td>\n",
       "      <td>265</td>\n",
       "      <td>0</td>\n",
       "      <td>0</td>\n",
       "      <td>...</td>\n",
       "      <td>2</td>\n",
       "      <td>3</td>\n",
       "      <td>3</td>\n",
       "      <td>0</td>\n",
       "      <td>3</td>\n",
       "      <td>5</td>\n",
       "      <td>3</td>\n",
       "      <td>2</td>\n",
       "      <td>0</td>\n",
       "      <td>0.0</td>\n",
       "    </tr>\n",
       "    <tr>\n",
       "      <th>1</th>\n",
       "      <td>110278</td>\n",
       "      <td>satisfied</td>\n",
       "      <td>Male</td>\n",
       "      <td>Loyal Customer</td>\n",
       "      <td>47</td>\n",
       "      <td>Personal Travel</td>\n",
       "      <td>Business</td>\n",
       "      <td>2464</td>\n",
       "      <td>0</td>\n",
       "      <td>0</td>\n",
       "      <td>...</td>\n",
       "      <td>2</td>\n",
       "      <td>3</td>\n",
       "      <td>4</td>\n",
       "      <td>4</td>\n",
       "      <td>4</td>\n",
       "      <td>2</td>\n",
       "      <td>3</td>\n",
       "      <td>2</td>\n",
       "      <td>310</td>\n",
       "      <td>305.0</td>\n",
       "    </tr>\n",
       "    <tr>\n",
       "      <th>2</th>\n",
       "      <td>103199</td>\n",
       "      <td>satisfied</td>\n",
       "      <td>Female</td>\n",
       "      <td>Loyal Customer</td>\n",
       "      <td>15</td>\n",
       "      <td>Personal Travel</td>\n",
       "      <td>Eco</td>\n",
       "      <td>2138</td>\n",
       "      <td>0</td>\n",
       "      <td>0</td>\n",
       "      <td>...</td>\n",
       "      <td>2</td>\n",
       "      <td>2</td>\n",
       "      <td>3</td>\n",
       "      <td>3</td>\n",
       "      <td>4</td>\n",
       "      <td>4</td>\n",
       "      <td>4</td>\n",
       "      <td>2</td>\n",
       "      <td>0</td>\n",
       "      <td>0.0</td>\n",
       "    </tr>\n",
       "    <tr>\n",
       "      <th>3</th>\n",
       "      <td>47462</td>\n",
       "      <td>satisfied</td>\n",
       "      <td>Female</td>\n",
       "      <td>Loyal Customer</td>\n",
       "      <td>60</td>\n",
       "      <td>Personal Travel</td>\n",
       "      <td>Eco</td>\n",
       "      <td>623</td>\n",
       "      <td>0</td>\n",
       "      <td>0</td>\n",
       "      <td>...</td>\n",
       "      <td>3</td>\n",
       "      <td>1</td>\n",
       "      <td>1</td>\n",
       "      <td>0</td>\n",
       "      <td>1</td>\n",
       "      <td>4</td>\n",
       "      <td>1</td>\n",
       "      <td>3</td>\n",
       "      <td>0</td>\n",
       "      <td>0.0</td>\n",
       "    </tr>\n",
       "    <tr>\n",
       "      <th>4</th>\n",
       "      <td>120011</td>\n",
       "      <td>satisfied</td>\n",
       "      <td>Female</td>\n",
       "      <td>Loyal Customer</td>\n",
       "      <td>70</td>\n",
       "      <td>Personal Travel</td>\n",
       "      <td>Eco</td>\n",
       "      <td>354</td>\n",
       "      <td>0</td>\n",
       "      <td>0</td>\n",
       "      <td>...</td>\n",
       "      <td>4</td>\n",
       "      <td>2</td>\n",
       "      <td>2</td>\n",
       "      <td>0</td>\n",
       "      <td>2</td>\n",
       "      <td>4</td>\n",
       "      <td>2</td>\n",
       "      <td>5</td>\n",
       "      <td>0</td>\n",
       "      <td>0.0</td>\n",
       "    </tr>\n",
       "  </tbody>\n",
       "</table>\n",
       "<p>5 rows × 24 columns</p>\n",
       "</div>"
      ],
      "text/plain": [
       "       id satisfaction_v2  Gender   Customer Type  Age   Type of Travel  \\\n",
       "0   11112       satisfied  Female  Loyal Customer   65  Personal Travel   \n",
       "1  110278       satisfied    Male  Loyal Customer   47  Personal Travel   \n",
       "2  103199       satisfied  Female  Loyal Customer   15  Personal Travel   \n",
       "3   47462       satisfied  Female  Loyal Customer   60  Personal Travel   \n",
       "4  120011       satisfied  Female  Loyal Customer   70  Personal Travel   \n",
       "\n",
       "      Class  Flight Distance  Seat comfort  Departure/Arrival time convenient  \\\n",
       "0       Eco              265             0                                  0   \n",
       "1  Business             2464             0                                  0   \n",
       "2       Eco             2138             0                                  0   \n",
       "3       Eco              623             0                                  0   \n",
       "4       Eco              354             0                                  0   \n",
       "\n",
       "   ...  Online support  Ease of Online booking  On-board service  \\\n",
       "0  ...               2                       3                 3   \n",
       "1  ...               2                       3                 4   \n",
       "2  ...               2                       2                 3   \n",
       "3  ...               3                       1                 1   \n",
       "4  ...               4                       2                 2   \n",
       "\n",
       "   Leg room service  Baggage handling  Checkin service  Cleanliness  \\\n",
       "0                 0                 3                5            3   \n",
       "1                 4                 4                2            3   \n",
       "2                 3                 4                4            4   \n",
       "3                 0                 1                4            1   \n",
       "4                 0                 2                4            2   \n",
       "\n",
       "   Online boarding  Departure Delay in Minutes  Arrival Delay in Minutes  \n",
       "0                2                           0                       0.0  \n",
       "1                2                         310                     305.0  \n",
       "2                2                           0                       0.0  \n",
       "3                3                           0                       0.0  \n",
       "4                5                           0                       0.0  \n",
       "\n",
       "[5 rows x 24 columns]"
      ]
     },
     "execution_count": 2,
     "metadata": {},
     "output_type": "execute_result"
    }
   ],
   "source": [
    "# file located on my local machine\n",
    "file_path = r\"C:\\\\Users\\\\igyan\\\\Desktop\\\\DS\\\\PROJECTS\\my_projects/satisfaction.csv\"\n",
    "user_df = pd.read_csv(file_path)\n",
    "\n",
    "# print the first 5 rows\n",
    "user_df.head()"
   ]
  },
  {
   "cell_type": "markdown",
   "id": "de4a813c-e6a2-4af1-81f8-9696cf4101df",
   "metadata": {},
   "source": [
    "# Dataset Overview"
   ]
  },
  {
   "cell_type": "code",
   "execution_count": 3,
   "id": "01aaaefd-03ed-4462-8bb7-76674da29a93",
   "metadata": {},
   "outputs": [
    {
     "name": "stdout",
     "output_type": "stream",
     "text": [
      "<class 'pandas.core.frame.DataFrame'>\n",
      "RangeIndex: 129880 entries, 0 to 129879\n",
      "Data columns (total 24 columns):\n",
      " #   Column                             Non-Null Count   Dtype  \n",
      "---  ------                             --------------   -----  \n",
      " 0   id                                 129880 non-null  int64  \n",
      " 1   satisfaction_v2                    129880 non-null  object \n",
      " 2   Gender                             129880 non-null  object \n",
      " 3   Customer Type                      129880 non-null  object \n",
      " 4   Age                                129880 non-null  int64  \n",
      " 5   Type of Travel                     129880 non-null  object \n",
      " 6   Class                              129880 non-null  object \n",
      " 7   Flight Distance                    129880 non-null  int64  \n",
      " 8   Seat comfort                       129880 non-null  int64  \n",
      " 9   Departure/Arrival time convenient  129880 non-null  int64  \n",
      " 10  Food and drink                     129880 non-null  int64  \n",
      " 11  Gate location                      129880 non-null  int64  \n",
      " 12  Inflight wifi service              129880 non-null  int64  \n",
      " 13  Inflight entertainment             129880 non-null  int64  \n",
      " 14  Online support                     129880 non-null  int64  \n",
      " 15  Ease of Online booking             129880 non-null  int64  \n",
      " 16  On-board service                   129880 non-null  int64  \n",
      " 17  Leg room service                   129880 non-null  int64  \n",
      " 18  Baggage handling                   129880 non-null  int64  \n",
      " 19  Checkin service                    129880 non-null  int64  \n",
      " 20  Cleanliness                        129880 non-null  int64  \n",
      " 21  Online boarding                    129880 non-null  int64  \n",
      " 22  Departure Delay in Minutes         129880 non-null  int64  \n",
      " 23  Arrival Delay in Minutes           129487 non-null  float64\n",
      "dtypes: float64(1), int64(18), object(5)\n",
      "memory usage: 23.8+ MB\n"
     ]
    }
   ],
   "source": [
    "# Dataset Info\n",
    "user_df.info()"
   ]
  },
  {
   "cell_type": "code",
   "execution_count": 4,
   "id": "49ed17b3-5116-4c1c-a7ab-4875ec8b6b5e",
   "metadata": {},
   "outputs": [
    {
     "name": "stdout",
     "output_type": "stream",
     "text": [
      "Missing Values:\n",
      "\n"
     ]
    },
    {
     "data": {
      "text/plain": [
       "id                                     0\n",
       "satisfaction_v2                        0\n",
       "Gender                                 0\n",
       "Customer Type                          0\n",
       "Age                                    0\n",
       "Type of Travel                         0\n",
       "Class                                  0\n",
       "Flight Distance                        0\n",
       "Seat comfort                           0\n",
       "Departure/Arrival time convenient      0\n",
       "Food and drink                         0\n",
       "Gate location                          0\n",
       "Inflight wifi service                  0\n",
       "Inflight entertainment                 0\n",
       "Online support                         0\n",
       "Ease of Online booking                 0\n",
       "On-board service                       0\n",
       "Leg room service                       0\n",
       "Baggage handling                       0\n",
       "Checkin service                        0\n",
       "Cleanliness                            0\n",
       "Online boarding                        0\n",
       "Departure Delay in Minutes             0\n",
       "Arrival Delay in Minutes             393\n",
       "dtype: int64"
      ]
     },
     "execution_count": 4,
     "metadata": {},
     "output_type": "execute_result"
    }
   ],
   "source": [
    "# checking for missing values\n",
    "print('Missing Values:\\n')\n",
    "user_df.isnull().sum()"
   ]
  },
  {
   "cell_type": "code",
   "execution_count": 5,
   "id": "283d8e48-fb09-4e5e-8837-dc3049fee73c",
   "metadata": {},
   "outputs": [
    {
     "data": {
      "text/plain": [
       "0"
      ]
     },
     "execution_count": 5,
     "metadata": {},
     "output_type": "execute_result"
    }
   ],
   "source": [
    "# check for duplicate rows in dataset\n",
    "user_df.duplicated().sum()"
   ]
  },
  {
   "cell_type": "code",
   "execution_count": 6,
   "id": "208e1578-3f98-4b4b-85c3-fbec53616c24",
   "metadata": {},
   "outputs": [
    {
     "name": "stdout",
     "output_type": "stream",
     "text": [
      "id                                       0\n",
      "Age                                      0\n",
      "Flight Distance                       2581\n",
      "Seat comfort                             0\n",
      "Departure/Arrival time convenient        0\n",
      "Food and drink                           0\n",
      "Gate location                            0\n",
      "Inflight wifi service                    0\n",
      "Inflight entertainment                   0\n",
      "Online support                           0\n",
      "Ease of Online booking                   0\n",
      "On-board service                     13270\n",
      "Leg room service                         0\n",
      "Baggage handling                         0\n",
      "Checkin service                      15370\n",
      "Cleanliness                              0\n",
      "Online boarding                          0\n",
      "Departure Delay in Minutes           18098\n",
      "Arrival Delay in Minutes             17492\n",
      "dtype: int64\n"
     ]
    }
   ],
   "source": [
    "# check for outliers \n",
    "mf.check_for_outliers(user_df)"
   ]
  },
  {
   "cell_type": "markdown",
   "id": "167c61f4-328a-40e9-85e3-ee4fc062111d",
   "metadata": {},
   "source": [
    "# Data Cleaning"
   ]
  },
  {
   "cell_type": "markdown",
   "id": "043cda9e-ff3b-4c51-bf53-8115fc9c5b7b",
   "metadata": {},
   "source": [
    "### standardizing column name"
   ]
  },
  {
   "cell_type": "code",
   "execution_count": 7,
   "id": "f2c33c01-4f84-4953-a1cb-3a8f583ba1f1",
   "metadata": {},
   "outputs": [
    {
     "name": "stdout",
     "output_type": "stream",
     "text": [
      "standardized columns names:\n",
      "\n"
     ]
    },
    {
     "data": {
      "text/plain": [
       "['id',\n",
       " 'satisfaction_v2',\n",
       " 'gender',\n",
       " 'customer_type',\n",
       " 'age',\n",
       " 'type_of_travel',\n",
       " 'class',\n",
       " 'flight_distance',\n",
       " 'seat_comfort',\n",
       " 'departure/arrival_time_convenient',\n",
       " 'food_and_drink',\n",
       " 'gate_location',\n",
       " 'inflight_wifi_service',\n",
       " 'inflight_entertainment',\n",
       " 'online_support',\n",
       " 'ease_of_online_booking',\n",
       " 'on-board_service',\n",
       " 'leg_room_service',\n",
       " 'baggage_handling',\n",
       " 'checkin_service',\n",
       " 'cleanliness',\n",
       " 'online_boarding',\n",
       " 'departure_delay_in_minutes',\n",
       " 'arrival_delay_in_minutes']"
      ]
     },
     "execution_count": 7,
     "metadata": {},
     "output_type": "execute_result"
    }
   ],
   "source": [
    "# standardize column names using the snakecase format (lowercase and underscore)\n",
    "mf.format_column_name(user_df)"
   ]
  },
  {
   "cell_type": "markdown",
   "id": "3fed78bb-43a1-436c-8fe6-9da72061af69",
   "metadata": {},
   "source": [
    "### Imputing Missing Values"
   ]
  },
  {
   "cell_type": "code",
   "execution_count": 8,
   "id": "9b87a4fb-cd8f-476a-b03e-fdceabfd2f9f",
   "metadata": {},
   "outputs": [
    {
     "data": {
      "text/plain": [
       "False"
      ]
     },
     "execution_count": 8,
     "metadata": {},
     "output_type": "execute_result"
    }
   ],
   "source": [
    "# imputing missing values in arrival_delay_in_minutes column using the mean\n",
    "user_df['arrival_delay_in_minutes'] = user_df['arrival_delay_in_minutes']. \\\n",
    "                                    fillna(user_df['arrival_delay_in_minutes'].mean())\n",
    "\n",
    "# verify if dataset has no missing values \n",
    "user_df.isnull().sum().any()"
   ]
  },
  {
   "cell_type": "markdown",
   "id": "c96355c8-05da-4165-ae94-d2213cba5ded",
   "metadata": {},
   "source": [
    "### Handling outliers using vectorization"
   ]
  },
  {
   "cell_type": "code",
   "execution_count": 9,
   "id": "c77da893-c844-4a9c-ba78-76c080873bab",
   "metadata": {},
   "outputs": [
    {
     "name": "stdout",
     "output_type": "stream",
     "text": [
      "Outliers capped successfully.\n",
      "\n",
      "id                                   0\n",
      "age                                  0\n",
      "flight_distance                      0\n",
      "seat_comfort                         0\n",
      "departure/arrival_time_convenient    0\n",
      "food_and_drink                       0\n",
      "gate_location                        0\n",
      "inflight_wifi_service                0\n",
      "inflight_entertainment               0\n",
      "online_support                       0\n",
      "ease_of_online_booking               0\n",
      "on-board_service                     0\n",
      "leg_room_service                     0\n",
      "baggage_handling                     0\n",
      "checkin_service                      0\n",
      "cleanliness                          0\n",
      "online_boarding                      0\n",
      "departure_delay_in_minutes           0\n",
      "arrival_delay_in_minutes             0\n",
      "dtype: int64\n"
     ]
    }
   ],
   "source": [
    "# handle missing values using lowerbound and upperbound values as replacement\n",
    "mf.handle_outliers(user_df)\n",
    "\n",
    "# verify if there are no outliers\n",
    "mf.check_for_outliers(user_df)"
   ]
  },
  {
   "cell_type": "markdown",
   "id": "6bc0e56a-21ea-42f5-824b-debc55fecdf5",
   "metadata": {},
   "source": [
    "# Exploratory Data Analysis"
   ]
  },
  {
   "cell_type": "code",
   "execution_count": null,
   "id": "67016fea-a894-4a25-8905-5dcd13acd191",
   "metadata": {},
   "outputs": [],
   "source": []
  }
 ],
 "metadata": {
  "kernelspec": {
   "display_name": "Python 3 (ipykernel)",
   "language": "python",
   "name": "python3"
  },
  "language_info": {
   "codemirror_mode": {
    "name": "ipython",
    "version": 3
   },
   "file_extension": ".py",
   "mimetype": "text/x-python",
   "name": "python",
   "nbconvert_exporter": "python",
   "pygments_lexer": "ipython3",
   "version": "3.12.3"
  }
 },
 "nbformat": 4,
 "nbformat_minor": 5
}
